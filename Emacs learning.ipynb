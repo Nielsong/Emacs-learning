{
 "cells": [
  {
   "cell_type": "markdown",
   "metadata": {},
   "source": [
    "退出Emacs要用到C-x C-c（两个连续的组合键）\n",
    "退出一个正在进行的命令用C-g\n",
    "\n",
    "C-v是查看下一屏文字，M-v是查看上一屏文字\n",
    "\n",
    "C-l是将光标所在行置于屏幕的中央\n",
    "\n",
    "META系列的组合键操作和“由语言定义的单位”（词、句子、段落）\n",
    "CONTROL系列组合键用来操作”与语言无关的基本单位\"(行、字符等）\n",
    "\n",
    "C-f  向右移动一个字符\n",
    "C-b  向左移动一个字符\n",
    "\n",
    "M-f  向右移动一个单词【对中文是移动到下一个标点符号】\n",
    "M-b  向左移动一个单词【对中文是移动到上一个标点符号】\n",
    "\n",
    "C-n  移动到下一行\n",
    "C-p  移动到上一行\n",
    "\n",
    "C-a  移动到行首\n",
    "C-e  移动到行尾\n",
    "\n",
    "M-a  移动到句首\n",
    "M-e  移动到句尾\n",
    "\n",
    "M-<  移动到所有文字开头\n",
    "M->  移动到所有文字末尾\n",
    "（这个大部分需要用上档键）\n",
    "\n",
    "大部分的Emacs命令接受数字参数，并且对于多数命令而言，这些数字参数的作用是指定命令的重复次数。其方法是先输入C-u,然后输入数字作为参数，最后再输入命令，如 C-u 8 C-f会向前移动8个字符。这个方式也可以用来指定输入字符的命令，比如C-u 8 * 将会插入8个*\n",
    "\n",
    "但是对于C-u 8 C-v则不是向前滚动8个屏幕，这里数字参数仅仅是用来改变命令功能的，它在这里作用变为了将文本向下滚动8行。\n",
    "\n",
    "删除操作的小节\n",
    "\n",
    "DEl 删除光标前的一个字符\n",
    "C-d 删除光标后的一个字符\n",
    "\n",
    "M-DEl  移除光标前的一个词\n",
    "M-d  移除光标后的一个词\n",
    "\n",
    "C-k  移除从光标到“行尾”间的字符\n",
    "M-k  移除从光标到“句尾”间的字符\n",
    "\n",
    "C-y  召回（yank）\n",
    "\n",
    "C-/  撤销修改\n",
    "\n",
    "C-x C-f 用来寻找一个文件\n",
    "C-x C-s 用来存储一个文件\n",
    "\n",
    "C-x C-b 用来列出缓冲区\n",
    "\n",
    "对于缓冲区文件的修改一般并不会自动保存，所以可以用C-x s来保存多个缓冲区\n",
    "\n",
    "命令集扩展\n",
    "\n",
    "Emacs命令太多，需要用\n",
    "\n",
    "C-x 字符扩展，C-x之后输入另一个字符或者组合键\n",
    "M-x 命令你扩展，M-x之后输入一个命令名（比如说输入一个模式名，会切换到相应的主、辅模式）\n",
    "\n",
    "Emacs 会定期将正在编辑的文件写入一个“自动保存”文件中。自动保存文件的文件名的头尾各有一个“#”字符，比如你正在编辑的文件叫“hello.c”，那么它的自动保存文件就叫“#hello.c#”。这个文件会在正常存盘之后被 Emacs 删除。所以，假如不幸真的发生了，你大可以从容地打开原来的文件（注意不是自动保存文件）然后输入 M-x recover file <Return> 来恢复你的自动保存文件。在提示确认的时候，输入 yes<Return>。\n",
    "    \n",
    "（C-x f可以设定边界的值）    \n",
    "\n",
    "\n"
   ]
  },
  {
   "cell_type": "markdown",
   "metadata": {},
   "source": [
    "多窗格\n",
    "\n",
    "输入C-x 2将屏幕分为两个窗格\n",
    "\n",
    "C-M-v向下滚动非当前编辑的窗格，C-M-Shift-v向上\n",
    "\n",
    "使用M-x make-frame来创建一个新的窗口"
   ]
  },
  {
   "cell_type": "code",
   "execution_count": null,
   "metadata": {},
   "outputs": [],
   "source": []
  }
 ],
 "metadata": {
  "kernelspec": {
   "display_name": "Python 3",
   "language": "python",
   "name": "python3"
  },
  "language_info": {
   "codemirror_mode": {
    "name": "ipython",
    "version": 3
   },
   "file_extension": ".py",
   "mimetype": "text/x-python",
   "name": "python",
   "nbconvert_exporter": "python",
   "pygments_lexer": "ipython3",
   "version": "3.5.2"
  }
 },
 "nbformat": 4,
 "nbformat_minor": 2
}
